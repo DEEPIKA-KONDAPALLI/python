{
  "nbformat": 4,
  "nbformat_minor": 0,
  "metadata": {
    "colab": {
      "name": "2nd module",
      "provenance": [],
      "authorship_tag": "ABX9TyN+lPDbiVZ9Iar6yGkM6nCf",
      "include_colab_link": true
    },
    "kernelspec": {
      "name": "python3",
      "display_name": "Python 3"
    },
    "language_info": {
      "name": "python"
    }
  },
  "cells": [
    {
      "cell_type": "markdown",
      "metadata": {
        "id": "view-in-github",
        "colab_type": "text"
      },
      "source": [
        "<a href=\"https://colab.research.google.com/github/VU21CSEN0100410/python/blob/main/2nd_module.ipynb\" target=\"_parent\"><img src=\"https://colab.research.google.com/assets/colab-badge.svg\" alt=\"Open In Colab\"/></a>"
      ]
    },
    {
      "cell_type": "markdown",
      "source": [
        "Functions \n",
        "\n",
        "create a function which accepts two inputs from the user and compute nCr"
      ],
      "metadata": {
        "id": "e0LEwu_b9EHL"
      }
    },
    {
      "cell_type": "code",
      "execution_count": null,
      "metadata": {
        "id": "QN-y7Qh683xA",
        "colab": {
          "base_uri": "https://localhost:8080/"
        },
        "outputId": "02e5e31c-9aed-46d7-eb7f-3ce85782b05c"
      },
      "outputs": [
        {
          "name": "stdout",
          "output_type": "stream",
          "text": [
            "a=7\n",
            "b=6\n"
          ]
        },
        {
          "output_type": "execute_result",
          "data": {
            "text/plain": [
              "7.0"
            ]
          },
          "metadata": {},
          "execution_count": 3
        }
      ],
      "source": [
        "def fact(i):\n",
        " if i>0:\n",
        "  return i*fact(i-1)\n",
        " else:\n",
        "  return 1\n",
        "def comb(n,r):\n",
        " return (fact(n)/((fact(n-r))*fact(r)))\n",
        "a=int(input('a='))\n",
        "b=int(input('b='))\n",
        "comb(a,b)"
      ]
    },
    {
      "cell_type": "markdown",
      "source": [
        "Program to print a specified list after removing the 0th, 4th and 5th elements.\n",
        "Sample List : ['Red', 'Green', 'White', 'Black', 'Pink', 'Yellow']\n",
        "Expected Output : ['Green', 'White', 'Black']"
      ],
      "metadata": {
        "id": "HL0cmhTl8vqL"
      }
    },
    {
      "cell_type": "code",
      "source": [
        "a=['Red','Green','White','Black','Pink','Yellow']\n",
        "del a[0]\n",
        "del a[3]\n",
        "del a[3]\n",
        "print(a)"
      ],
      "metadata": {
        "colab": {
          "base_uri": "https://localhost:8080/"
        },
        "id": "KxRqo39z9Lin",
        "outputId": "988b9754-0a3e-4671-98a7-8d2394c3330a"
      },
      "execution_count": null,
      "outputs": [
        {
          "output_type": "stream",
          "name": "stdout",
          "text": [
            "['Green', 'White', 'Black']\n"
          ]
        }
      ]
    },
    {
      "cell_type": "markdown",
      "source": [
        "Program to get the difference between the two lists."
      ],
      "metadata": {
        "id": "KrcJqJl-9uL0"
      }
    },
    {
      "cell_type": "code",
      "source": [
        "p=[4,8,0,1,3,26,8]\n",
        "q=[5,6,9,2,1,25,9]\n",
        "x=set(p)\n",
        "y=set(q)\n",
        "z1=x.difference(y)\n",
        "z2=y.difference(x)\n",
        "print(list(z1))\n",
        "print(list(z2))"
      ],
      "metadata": {
        "colab": {
          "base_uri": "https://localhost:8080/"
        },
        "id": "B-ewQ4FF9vLE",
        "outputId": "354e349c-4ff2-4e3f-9c28-ddc89ebb5321"
      },
      "execution_count": null,
      "outputs": [
        {
          "output_type": "stream",
          "name": "stdout",
          "text": [
            "[0, 3, 4, 8, 26]\n",
            "[2, 5, 6, 9, 25]\n"
          ]
        }
      ]
    },
    {
      "cell_type": "markdown",
      "source": [
        "Program to find the second smallest number and second largest number in a list."
      ],
      "metadata": {
        "id": "VMVFWQuS_Y_D"
      }
    },
    {
      "cell_type": "code",
      "source": [
        "num=[1,2,3,4,5,6,7,8,9,0]\n",
        "num.sort()\n",
        "print(num)\n",
        "print(\"The second smallest number in the given list is: \",num[1])\n",
        "print(\"The second largest number in the given list is: \",num[len(num)-2])"
      ],
      "metadata": {
        "id": "C8PQWkFg_aHr",
        "colab": {
          "base_uri": "https://localhost:8080/"
        },
        "outputId": "34130265-d847-4814-cbb3-021873e7c853"
      },
      "execution_count": null,
      "outputs": [
        {
          "output_type": "stream",
          "name": "stdout",
          "text": [
            "[0, 1, 2, 3, 4, 5, 6, 7, 8, 9]\n",
            "The second smallest number in the given list is:  1\n",
            "The second largest number in the given list is:  8\n"
          ]
        }
      ]
    },
    {
      "cell_type": "markdown",
      "source": [
        "Given a list of numbers of list, write a Python program to create a list of tuples\n",
        "having first element as the number and second element as the square of the\n",
        "number"
      ],
      "metadata": {
        "id": "6E9yqThSDAel"
      }
    },
    {
      "cell_type": "code",
      "source": [
        "num=[2,5,8,0,4,21,3]\n",
        "result=[(x,x**2) for x in num]\n",
        "print(\"The required list is: \",result)"
      ],
      "metadata": {
        "colab": {
          "base_uri": "https://localhost:8080/"
        },
        "id": "w0MuJ0O-EkKD",
        "outputId": "e5e09b85-2207-4cf2-dfb8-cfcfec4ed989"
      },
      "execution_count": null,
      "outputs": [
        {
          "output_type": "stream",
          "name": "stdout",
          "text": [
            "The required list is:  [(2, 4), (5, 25), (8, 64), (0, 0), (4, 16), (21, 441), (3, 9)]\n"
          ]
        }
      ]
    },
    {
      "cell_type": "markdown",
      "source": [
        "Given list of tuples, remove all the tuples with length K.\n",
        "Input : test_list = [(4, 5), (4, ), (8, 6, 7), (1, ), (3, 4, 6, 7)], K = 2\n",
        "Output : [(4, ), (8, 6, 7), (1, ), (3, 4, 6, 7)]\n",
        "Explanation : (4, 5) of len = 2 is removed."
      ],
      "metadata": {
        "id": "rQpebGLGDudi"
      }
    },
    {
      "cell_type": "code",
      "source": [
        "test_list = [(4, 5), (4, ), (8, 6, 7), (1, ), (3, 4, 6, 7)]\n",
        "new_list=[]\n",
        "K=2\n",
        "for x in test_list:\n",
        " if len(x)!=K:\n",
        "  new_list.append(x)\n",
        "print(\"The filtered list without containing any element of tupple length '2' is:\",new_list)"
      ],
      "metadata": {
        "colab": {
          "base_uri": "https://localhost:8080/"
        },
        "id": "ljkFhkimDMkT",
        "outputId": "d53f319b-5fbc-4e0f-d316-b34ad20ad2b8"
      },
      "execution_count": null,
      "outputs": [
        {
          "output_type": "stream",
          "name": "stdout",
          "text": [
            "The filtered list without containing any element of tupple length '2' is: [(4,), (8, 6, 7), (1,), (3, 4, 6, 7)]\n"
          ]
        }
      ]
    },
    {
      "cell_type": "markdown",
      "source": [
        "Program to generate and print a dictionary that contains a number (between 1\n",
        "and n) in the form (x, x*x).\n",
        "Sample Input: (n=5) :\n",
        "Expected Output : {1: 1, 2: 4, 3: 9, 4: 16, 5: 25}\n"
      ],
      "metadata": {
        "id": "C55jkOZSE7B4"
      }
    },
    {
      "cell_type": "code",
      "source": [
        "my_dictionary=dict()\n",
        "x=int(input(\"Enter a number: \"))\n",
        "for i in range(1,x+1):\n",
        "  my_dictionary.update({i:i**2})\n",
        "print(\"The obtained dictionary is:\",my_dictionary)"
      ],
      "metadata": {
        "colab": {
          "base_uri": "https://localhost:8080/"
        },
        "id": "Xb0NIstOFPTq",
        "outputId": "2cb5fcb4-8ac1-46af-d46b-42fcbb18e69b"
      },
      "execution_count": null,
      "outputs": [
        {
          "output_type": "stream",
          "name": "stdout",
          "text": [
            "Enter a number: 8\n",
            "The obtained dictionary is: {1: 1, 2: 4, 3: 9, 4: 16, 5: 25, 6: 36, 7: 49, 8: 64}\n"
          ]
        }
      ]
    },
    {
      "cell_type": "markdown",
      "source": [
        "Program to remove a key from a dictionary"
      ],
      "metadata": {
        "id": "u8QOYXHcHgZk"
      }
    },
    {
      "cell_type": "code",
      "source": [
        "biscuit={\n",
        " 'name':'oreo',\n",
        " 'colour':'brown and white',\n",
        " 'taste':'sweet',\n",
        " 'cost':30\n",
        "}\n",
        "biscuit.pop('taste')\n",
        "print(biscuit)\n",
        "del biscuit['cost']\n",
        "print(biscuit)"
      ],
      "metadata": {
        "id": "mAwrMitbHhSC",
        "colab": {
          "base_uri": "https://localhost:8080/"
        },
        "outputId": "856d0d28-f221-413f-c84b-b62d301327f8"
      },
      "execution_count": 15,
      "outputs": [
        {
          "output_type": "stream",
          "name": "stdout",
          "text": [
            "{'name': 'oreo', 'colour': 'brown and white', 'cost': 30}\n",
            "{'name': 'oreo', 'colour': 'brown and white'}\n"
          ]
        }
      ]
    },
    {
      "cell_type": "markdown",
      "source": [
        "program to get the maximum and minimum value in a dictionary"
      ],
      "metadata": {
        "id": "CHwxIDzmIrwx"
      }
    },
    {
      "cell_type": "code",
      "source": [
        "my_dictionary={\n",
        " 'a':21, 'b':3, 'c':213, 'd':321\n",
        " }\n",
        "max_value=max(my_dictionary, key=my_dictionary.get)\n",
        "min_value=min(my_dictionary, key=my_dictionary.get)\n",
        "print(\"The maximum value in the given dictionary has a key: '\"+max_value+\"' and its value is:\",my_dictionary[max_value])\n",
        "print(\"The minimum value in the given dictionary has a key: '\"+min_value+\"' and its value is:\",my_dictionary[min_value])"
      ],
      "metadata": {
        "colab": {
          "base_uri": "https://localhost:8080/"
        },
        "id": "Ymisu1dfJXTS",
        "outputId": "c9173d50-1ef0-4e89-a9c1-43375f573a96"
      },
      "execution_count": 17,
      "outputs": [
        {
          "output_type": "stream",
          "name": "stdout",
          "text": [
            "The maximum value in the given dictionary has a key: 'd' and its value is: 321\n",
            "The minimum value in the given dictionary has a key: 'b' and its value is: 3\n"
          ]
        }
      ]
    },
    {
      "cell_type": "markdown",
      "source": [
        "Program to perform operations on string using unicodes ,splitting of string,accessing\n",
        "elements of string using locations"
      ],
      "metadata": {
        "id": "14v4N9aeJ3Sq"
      }
    },
    {
      "cell_type": "code",
      "source": [
        "string=input(\"enter a string: \")\n",
        "print(string.split())\n",
        "print(string[4:])"
      ],
      "metadata": {
        "colab": {
          "base_uri": "https://localhost:8080/"
        },
        "id": "279D9XuhLIBl",
        "outputId": "fe4e8b3c-e442-4e47-a54e-ad3b64d3ef75"
      },
      "execution_count": 23,
      "outputs": [
        {
          "output_type": "stream",
          "name": "stdout",
          "text": [
            "enter a string: i love chicken biryani and prawns curry\n",
            "['i', 'love', 'chicken', 'biryani', 'and', 'prawns', 'curry']\n",
            "ve chicken biryani and prawns curry\n"
          ]
        }
      ]
    },
    {
      "cell_type": "markdown",
      "source": [
        "Program for Counting occurrence of a certain element in a string, getting indexes that\n",
        "have matching elements.For ex -.In Rabbit count how many times b has occurred .\n",
        "Example-I have to go to a doctor and get myself checked. Count the number of\n",
        "occXrrences of µWo¶.\n"
      ],
      "metadata": {
        "id": "8AyoWS77NaZi"
      }
    },
    {
      "cell_type": "code",
      "source": [
        ""
      ],
      "metadata": {
        "id": "02S2ZR_XLILl"
      },
      "execution_count": null,
      "outputs": []
    }
  ]
}
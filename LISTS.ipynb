{
  "nbformat": 4,
  "nbformat_minor": 0,
  "metadata": {
    "colab": {
      "name": "LISTS",
      "provenance": [],
      "collapsed_sections": [],
      "authorship_tag": "ABX9TyO9am2qXzUohQtJARcrRzZm",
      "include_colab_link": true
    },
    "kernelspec": {
      "name": "python3",
      "display_name": "Python 3"
    },
    "language_info": {
      "name": "python"
    }
  },
  "cells": [
    {
      "cell_type": "markdown",
      "metadata": {
        "id": "view-in-github",
        "colab_type": "text"
      },
      "source": [
        "<a href=\"https://colab.research.google.com/github/VU21CSEN0100410/python/blob/main/LISTS.ipynb\" target=\"_parent\"><img src=\"https://colab.research.google.com/assets/colab-badge.svg\" alt=\"Open In Colab\"/></a>"
      ]
    },
    {
      "cell_type": "markdown",
      "source": [
        "create a list"
      ],
      "metadata": {
        "id": "t4bNOLi_XVZT"
      }
    },
    {
      "cell_type": "code",
      "source": [
        "actors=[\"nani\",\"pawan kalyan\",\"ramcharan\",\"ntr\",\"prabhas\"]\n",
        "print(actors)"
      ],
      "metadata": {
        "colab": {
          "base_uri": "https://localhost:8080/"
        },
        "id": "2Otm-9NHW4-4",
        "outputId": "5f36e94a-1ce0-4a4f-c6a6-2b6306b1ff76"
      },
      "execution_count": null,
      "outputs": [
        {
          "output_type": "stream",
          "name": "stdout",
          "text": [
            "['nani', 'pawan kalyan', 'ramcharan', 'ntr', 'prabhas']\n"
          ]
        }
      ]
    },
    {
      "cell_type": "markdown",
      "source": [
        "Allow duplicates"
      ],
      "metadata": {
        "id": "_LhXykjCMCTV"
      }
    },
    {
      "cell_type": "code",
      "source": [
        "colour=[\"yellow\",\"black\",\"yellow\",\"white\"]\n",
        "print(colour)"
      ],
      "metadata": {
        "colab": {
          "base_uri": "https://localhost:8080/"
        },
        "id": "u5OoN1dmVfdk",
        "outputId": "581fe57b-19bc-4c16-aa2a-bbc2d030f373"
      },
      "execution_count": null,
      "outputs": [
        {
          "output_type": "stream",
          "name": "stdout",
          "text": [
            "['yellow', 'black', 'yellow', 'white']\n"
          ]
        }
      ]
    },
    {
      "cell_type": "markdown",
      "source": [
        "List length"
      ],
      "metadata": {
        "id": "NGIIseveYPYI"
      }
    },
    {
      "cell_type": "code",
      "source": [
        "a=\"KGF2 is going to be release soon\"\n",
        "print(len(a))"
      ],
      "metadata": {
        "colab": {
          "base_uri": "https://localhost:8080/"
        },
        "id": "cA4OxBdKYVlj",
        "outputId": "48f8c11a-7aa6-40bb-e3cb-1a327d760598"
      },
      "execution_count": 2,
      "outputs": [
        {
          "output_type": "stream",
          "name": "stdout",
          "text": [
            "32\n"
          ]
        }
      ]
    },
    {
      "cell_type": "markdown",
      "source": [
        "List Items - Data Types"
      ],
      "metadata": {
        "id": "jiI30Szr9C_x"
      }
    },
    {
      "cell_type": "code",
      "source": [
        "#String, int and boolean data types\n",
        "a=[\"rabbit\",\"pig\",\"donkey\",\"buffalo\"]\n",
        "b=[2,4,6,8]\n",
        "c=[\"true\",\"false\",\"true\"]\n",
        "print(a)\n",
        "print(b)\n",
        "print(c)\n",
        "\n",
        "#combined list \n",
        "a=[\"rabbit\",2,\"true\"]\n",
        "print(a)\n",
        "\n",
        "#type()\n",
        "actors=[\"nani\",\"pawan kalyan\",\"ramcharan\",\"ntr\",\"prabhas\"]\n",
        "print(type(actors))\n",
        "\n",
        "#The list() Constructor\n",
        "f=list((\"chicken\",\"mutton\",\"prawns\",\"fish\"))\n",
        "print(f)\n",
        "\n",
        "f=[\"chicken\"]\n",
        "f=list((\"chicken\"))\n",
        "print(f)"
      ],
      "metadata": {
        "id": "2KoWL8LwX9Ka",
        "colab": {
          "base_uri": "https://localhost:8080/"
        },
        "outputId": "6ac88e87-400e-48ad-e3df-f3f1f421187b"
      },
      "execution_count": 27,
      "outputs": [
        {
          "output_type": "stream",
          "name": "stdout",
          "text": [
            "['rabbit', 'pig', 'donkey', 'buffalo']\n",
            "[2, 4, 6, 8]\n",
            "['true', 'false', 'true']\n",
            "['rabbit', 2, 'true']\n",
            "<class 'list'>\n",
            "['chicken', 'mutton', 'prawns', 'fish']\n",
            "['c', 'h', 'i', 'c', 'k', 'e', 'n']\n"
          ]
        }
      ]
    },
    {
      "cell_type": "markdown",
      "source": [
        "Access Items"
      ],
      "metadata": {
        "id": "ONnlv3SqCj4b"
      }
    },
    {
      "cell_type": "code",
      "source": [
        "#print a particular item of the list\n",
        "item=[\"paneer\",\"dosa\",\"idly\",\"chapathi\",\"upma\"]\n",
        "print(item[0])\n",
        "print(item[2])\n",
        "print(item[3])\n",
        "\n",
        "#Negative Indexing\n",
        "item=[\"paneer\",\"dosa\",\"idly\",\"chapathi\",\"upma\"]\n",
        "print(item[-1])\n",
        "print(item[-2])\n",
        "print(item[-4])\n",
        "\n",
        "#Range of Indexes\n",
        "item=[\"paneer\",\"dosa\",\"idly\",\"chapathi\",\"upma\"]\n",
        "print(item[0:4])\n",
        "print(item[1:])\n",
        "print(item[:5])\n",
        "print(item[-4:-2])\n",
        "\n",
        "#check if item\n",
        "item=[\"paneer\",\"dosa\",\"idly\",\"chapathi\",\"upma\"]\n",
        "if \"paneer\" in item:\n",
        "  print(\"yes\")"
      ],
      "metadata": {
        "colab": {
          "base_uri": "https://localhost:8080/"
        },
        "id": "GWzpf5ie-8NC",
        "outputId": "d69c6c6b-ebc5-43bb-9d0d-146bda45f02d"
      },
      "execution_count": 36,
      "outputs": [
        {
          "output_type": "stream",
          "name": "stdout",
          "text": [
            "paneer\n",
            "idly\n",
            "chapathi\n",
            "upma\n",
            "chapathi\n",
            "dosa\n",
            "['paneer', 'dosa', 'idly', 'chapathi']\n",
            "['dosa', 'idly', 'chapathi', 'upma']\n",
            "['paneer', 'dosa', 'idly', 'chapathi', 'upma']\n",
            "['dosa', 'idly']\n",
            "yes\n"
          ]
        }
      ]
    },
    {
      "cell_type": "markdown",
      "source": [
        "Python - Change List Items"
      ],
      "metadata": {
        "id": "T4tqGuPMI482"
      }
    },
    {
      "cell_type": "code",
      "source": [
        "#changing a particular item\n",
        "item=[\"paneer\",\"dosa\",\"idly\",\"chapathi\",\"upma\"]\n",
        "item[4]= \"butter naan\"\n",
        "print(item)\n",
        "item[1]=\"bread\"\n",
        "print(item)\n",
        "\n",
        "#changing range of items\n",
        "item=[\"paneer\",\"dosa\",\"idly\",\"chapathi\",\"upma\"]\n",
        "item[0:2]=[\"pani puri\",\"masala puri\"]\n",
        "print(item)\n",
        "\n",
        "#Change the particular item by replacing it with two new items\n",
        "item=[\"paneer\",\"dosa\",\"idly\",\"chapathi\",\"upma\"]\n",
        "item[4:5]=[\"pav bhajji\",\"bread bhajji\"]\n",
        "print(item)\n",
        "\n",
        "#Change the two values by replacing it with one value\n",
        "item=[\"paneer\",\"dosa\",\"idly\",\"chapathi\",\"upma\"]\n",
        "item[3:5]=[\"chaat\"]\n",
        "print(item)"
      ],
      "metadata": {
        "colab": {
          "base_uri": "https://localhost:8080/"
        },
        "id": "IVmb7qzPKDfh",
        "outputId": "5f23db87-7f74-443c-e47a-5d2b95c311b6"
      },
      "execution_count": 47,
      "outputs": [
        {
          "output_type": "stream",
          "name": "stdout",
          "text": [
            "['paneer', 'dosa', 'idly', 'chapathi', 'butter naan']\n",
            "['paneer', 'bread', 'idly', 'chapathi', 'butter naan']\n",
            "['pani puri', 'masala puri', 'idly', 'chapathi', 'upma']\n",
            "['paneer', 'dosa', 'idly', 'chapathi', 'pav bhajji', 'bread bhajji']\n",
            "['paneer', 'dosa', 'idly', 'chaat']\n"
          ]
        }
      ]
    },
    {
      "cell_type": "markdown",
      "source": [
        "Python - Add List Items"
      ],
      "metadata": {
        "id": "Z9eBoatzOzsk"
      }
    },
    {
      "cell_type": "code",
      "source": [
        "#append\n",
        "item=[\"paneer\",\"dosa\",\"idly\",\"chapathi\",\"upma\"]\n",
        "item.append(\"puri\")\n",
        "print(item)\n",
        "\n",
        "\n",
        "#Insert \n",
        "item=[\"paneer\",\"dosa\",\"idly\",\"chapathi\",\"upma\"]\n",
        "item.insert(3,\"puri\")\n",
        "print(item)\n",
        "\n",
        "#extend\n",
        "item=[\"paneer\",\"dosa\",\"idly\",\"chapathi\",\"upma\"]\n",
        "dish=[\"fried rice\",\"biryani\",\"pulao\"]\n",
        "item.extend(dish)\n",
        "print(item)\n",
        "\n",
        "#Add Any Iterable\n",
        "item=[\"paneer\",\"dosa\",\"idly\",\"chapathi\",\"upma\"]\n",
        "dish=(\"fried rice\",\"biryani\",\"pulao\")#tuple\n",
        "item.extend(dish)\n",
        "print(item)"
      ],
      "metadata": {
        "colab": {
          "base_uri": "https://localhost:8080/"
        },
        "id": "MGFgVl42PJGr",
        "outputId": "0bcc40ae-1734-49f4-aa2b-2a5dff7567e6"
      },
      "execution_count": 52,
      "outputs": [
        {
          "output_type": "stream",
          "name": "stdout",
          "text": [
            "['paneer', 'dosa', 'idly', 'chapathi', 'upma', 'puri']\n",
            "['paneer', 'dosa', 'idly', 'puri', 'chapathi', 'upma']\n",
            "['paneer', 'dosa', 'idly', 'chapathi', 'upma', 'fried rice', 'biryani', 'pulao']\n",
            "['paneer', 'dosa', 'idly', 'chapathi', 'upma', 'fried rice', 'biryani', 'pulao']\n"
          ]
        }
      ]
    },
    {
      "cell_type": "markdown",
      "source": [
        "Python - Remove List Items"
      ],
      "metadata": {
        "id": "aWYdDxCpQwrF"
      }
    },
    {
      "cell_type": "code",
      "source": [
        "#Remove Specified Item\n",
        "p=[\"vizag\",\"mumbai\",\"delhi\"]\n",
        "p.remove(\"delhi\")\n",
        "print(p)\n",
        "\n",
        "#Remove Specified Index\n",
        "p=[\"vizag\",\"mumbai\",\"delhi\"]\n",
        "p.pop(1)\n",
        "print(p)\n",
        "\n",
        "#Remove the last item\n",
        "p=[\"vizag\",\"mumbai\",\"delhi\",\"bangalore\"]\n",
        "p.pop()\n",
        "print(p)\n",
        "\n",
        "#Remove the first item\n",
        "p=[\"vizag\",\"mumbai\",\"delhi\",\"bangalore\"]\n",
        "del p[2]\n",
        "print(p)\n",
        "\n",
        "#Clear the List\n",
        "p=[\"vizag\",\"mumbai\",\"delhi\",\"bangalore\"]\n",
        "p.clear()\n",
        "print(p)"
      ],
      "metadata": {
        "colab": {
          "base_uri": "https://localhost:8080/"
        },
        "id": "0o2CxSFtQvw7",
        "outputId": "d6a2e3b4-290e-4fad-d0a4-7dc60b514daf"
      },
      "execution_count": 63,
      "outputs": [
        {
          "output_type": "stream",
          "name": "stdout",
          "text": [
            "['vizag', 'mumbai']\n",
            "['vizag', 'delhi']\n",
            "['vizag', 'mumbai', 'delhi']\n",
            "['vizag', 'mumbai', 'bangalore']\n",
            "[]\n"
          ]
        }
      ]
    },
    {
      "cell_type": "markdown",
      "source": [
        "Python - Loop Lists"
      ],
      "metadata": {
        "id": "-QK8_6EcTf5Q"
      }
    },
    {
      "cell_type": "code",
      "source": [
        "#Loop Through a List\n",
        "p=[\"vizag\",\"mumbai\",\"delhi\",\"bangalore\"]\n",
        "for x in p:\n",
        "  print(x)\n",
        "\n",
        "#Loop Through the Index Numbers\n",
        "p=[\"vizag\",\"mumbai\",\"delhi\",\"bangalore\"]\n",
        "for i in range(len(p)):\n",
        "  print(p[i])\n",
        "\n",
        "#Using a While Loop\n",
        "fruits = [\"apple\", \"banana\", \"cherry\"]\n",
        "i = 0\n",
        "while i < len(fruits):\n",
        "  print(fruits[i])\n",
        "  i = i + 1\n",
        "\n",
        "#Looping Using List Comprehension\n",
        "fruits = [\"apple\", \"banana\", \"cherry\"]\n",
        "[print(x) for x in fruits]"
      ],
      "metadata": {
        "colab": {
          "base_uri": "https://localhost:8080/"
        },
        "id": "6sJxXjKnThOS",
        "outputId": "0894007c-af23-46c1-ecf5-b5551f3bbcf1"
      },
      "execution_count": 67,
      "outputs": [
        {
          "output_type": "stream",
          "name": "stdout",
          "text": [
            "vizag\n",
            "mumbai\n",
            "delhi\n",
            "bangalore\n",
            "vizag\n",
            "mumbai\n",
            "delhi\n",
            "bangalore\n",
            "apple\n",
            "banana\n",
            "cherry\n",
            "apple\n",
            "banana\n",
            "cherry\n"
          ]
        },
        {
          "output_type": "execute_result",
          "data": {
            "text/plain": [
              "[None, None, None]"
            ]
          },
          "metadata": {},
          "execution_count": 67
        }
      ]
    },
    {
      "cell_type": "markdown",
      "source": [
        "Python - List Comprehension"
      ],
      "metadata": {
        "id": "PdYk8v83W6t3"
      }
    },
    {
      "cell_type": "code",
      "source": [
        "p=[\"vizag\",\"mumbai\",\"delhi\",\"bangalore\"]\n",
        "n = []\n",
        "\n",
        "for x in p:\n",
        "  if \"a\" in x:\n",
        "    n.append(x)\n",
        "\n",
        "print(n)\n",
        "\n",
        "#The Syntax\n",
        "p=[\"vizag\",\"mumbai\",\"delhi\",\"bangalore\"]\n",
        "n = [x for x in n if x != \"vizag\"]\n",
        "\n",
        "print(n)\n",
        "\n",
        "#With no if statement\n",
        "p=[\"vizag\",\"mumbai\",\"delhi\",\"bangalore\"]\n",
        "n = [x for x in p]\n",
        "\n",
        "print(n)\n",
        "\n",
        "#Iterable\n",
        "n = [x for x in range(15)]\n",
        "print(n)\n",
        "\n",
        "n = [x for x in range(10) if x < 5]\n",
        "print(n)\n",
        "\n",
        "\n",
        "#Expression\n",
        "fruits = [\"apple\", \"banana\", \"cherry\", \"kiwi\", \"mango\"]\n",
        "n = [x.upper() for x in fruits]\n",
        "print(n)\n",
        "\n",
        "fruits = [\"apple\", \"banana\", \"cherry\", \"kiwi\", \"mango\"]\n",
        "n = ['yes' for x in fruits]\n",
        "print(n)\n",
        "\n",
        "fruits = [\"apple\", \"banana\", \"cherry\", \"kiwi\", \"mango\"]\n",
        "n = [x if x != \"banana\" else \"orange\" for x in fruits]\n",
        "print(n)"
      ],
      "metadata": {
        "colab": {
          "base_uri": "https://localhost:8080/"
        },
        "id": "hnZbs3-eW7wa",
        "outputId": "a6da745e-ddb4-43b1-f88c-a8c0e491c181"
      },
      "execution_count": 78,
      "outputs": [
        {
          "output_type": "stream",
          "name": "stdout",
          "text": [
            "['vizag', 'mumbai', 'bangalore']\n",
            "['mumbai', 'bangalore']\n",
            "['vizag', 'mumbai', 'delhi', 'bangalore']\n",
            "[0, 1, 2, 3, 4, 5, 6, 7, 8, 9, 10, 11, 12, 13, 14]\n",
            "[0, 1, 2, 3, 4]\n",
            "['APPLE', 'BANANA', 'CHERRY', 'KIWI', 'MANGO']\n",
            "['yes', 'yes', 'yes', 'yes', 'yes']\n",
            "['apple', 'orange', 'cherry', 'kiwi', 'mango']\n"
          ]
        }
      ]
    },
    {
      "cell_type": "markdown",
      "source": [
        "Python - Sort Lists"
      ],
      "metadata": {
        "id": "F-5-IdAnZvt7"
      }
    },
    {
      "cell_type": "code",
      "source": [
        "fruits = [\"orange\", \"mango\", \"kiwi\", \"pineapple\", \"banana\"]\n",
        "fruits.sort()\n",
        "print(fruits)\n",
        "\n",
        "num = [100, 50, 65, 82, 23]\n",
        "num.sort()\n",
        "print(num)\n",
        "\n",
        "#Sort Descending\n",
        "fruits = [\"orange\", \"mango\", \"kiwi\", \"pineapple\", \"banana\"]\n",
        "fruits.sort(reverse = True)\n",
        "print(fruits)\n",
        "\n",
        "num = [100, 50, 65, 82, 23]\n",
        "num.sort(reverse = True)\n",
        "print(num)"
      ],
      "metadata": {
        "colab": {
          "base_uri": "https://localhost:8080/"
        },
        "id": "h_Tom6EeZ1LL",
        "outputId": "a0382669-50e9-4b9e-be41-8ea7e71e149e"
      },
      "execution_count": 82,
      "outputs": [
        {
          "output_type": "stream",
          "name": "stdout",
          "text": [
            "['banana', 'kiwi', 'mango', 'orange', 'pineapple']\n",
            "[23, 50, 65, 82, 100]\n",
            "['pineapple', 'orange', 'mango', 'kiwi', 'banana']\n",
            "[100, 82, 65, 50, 23]\n"
          ]
        }
      ]
    },
    {
      "cell_type": "markdown",
      "source": [
        "Python - Copy Lists"
      ],
      "metadata": {
        "id": "Th6KhnK2bRV4"
      }
    },
    {
      "cell_type": "code",
      "source": [
        "fruits = [\"apple\", \"banana\", \"cherry\"]\n",
        "fruit = fruits.copy()\n",
        "print(fruit)\n",
        "\n",
        "fruits = [\"apple\", \"banana\", \"cherry\"]\n",
        "fruit = list(fruits)\n",
        "print(fruit)"
      ],
      "metadata": {
        "colab": {
          "base_uri": "https://localhost:8080/"
        },
        "id": "4lkBk4y8bp-j",
        "outputId": "b0bcf0e1-795b-46e2-af7e-297f63ff977a"
      },
      "execution_count": 85,
      "outputs": [
        {
          "output_type": "stream",
          "name": "stdout",
          "text": [
            "['apple', 'banana', 'cherry']\n",
            "['apple', 'banana', 'cherry']\n"
          ]
        }
      ]
    },
    {
      "cell_type": "markdown",
      "source": [
        "Python - Join Lists"
      ],
      "metadata": {
        "id": "pdvWGphecRi-"
      }
    },
    {
      "cell_type": "code",
      "source": [
        "x = [\"a\", \"b\", \"c\"]\n",
        "y = [1, 2, 3]\n",
        "z = x + y\n",
        "print(z)\n",
        "\n",
        "z = [\"a\", \"b\" , \"c\"]\n",
        "y = [1, 2, 3]\n",
        "for x in y:\n",
        "  z.append(x)\n",
        "print(z)\n",
        "\n",
        "x = [\"a\", \"b\" , \"c\"]\n",
        "y = [1, 2, 3]\n",
        "x.extend(y)\n",
        "print(x)"
      ],
      "metadata": {
        "colab": {
          "base_uri": "https://localhost:8080/"
        },
        "id": "WtpzKCh_cRQA",
        "outputId": "8f15f77a-b1e1-4e01-ec66-9ef7232b4104"
      },
      "execution_count": 89,
      "outputs": [
        {
          "output_type": "stream",
          "name": "stdout",
          "text": [
            "['a', 'b', 'c', 1, 2, 3]\n",
            "['a', 'b', 'c', 1, 2, 3]\n",
            "['a', 'b', 'c', 1, 2, 3]\n"
          ]
        }
      ]
    }
  ]
}
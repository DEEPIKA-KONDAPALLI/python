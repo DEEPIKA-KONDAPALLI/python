{
  "nbformat": 4,
  "nbformat_minor": 0,
  "metadata": {
    "colab": {
      "name": "LISTS",
      "provenance": [],
      "collapsed_sections": [],
      "authorship_tag": "ABX9TyNcuP8z2+G3dxke21mx2sXd",
      "include_colab_link": true
    },
    "kernelspec": {
      "name": "python3",
      "display_name": "Python 3"
    },
    "language_info": {
      "name": "python"
    }
  },
  "cells": [
    {
      "cell_type": "markdown",
      "metadata": {
        "id": "view-in-github",
        "colab_type": "text"
      },
      "source": [
        "<a href=\"https://colab.research.google.com/github/VU21CSEN0100410/python/blob/main/LISTS.ipynb\" target=\"_parent\"><img src=\"https://colab.research.google.com/assets/colab-badge.svg\" alt=\"Open In Colab\"/></a>"
      ]
    },
    {
      "cell_type": "markdown",
      "source": [
        "create a list"
      ],
      "metadata": {
        "id": "t4bNOLi_XVZT"
      }
    },
    {
      "cell_type": "code",
      "source": [
        "actors=[\"nani\",\"pawan kalyan\",\"ramcharan\",\"ntr\",\"prabhas\"]\n",
        "print(actors)"
      ],
      "metadata": {
        "colab": {
          "base_uri": "https://localhost:8080/"
        },
        "id": "2Otm-9NHW4-4",
        "outputId": "5f36e94a-1ce0-4a4f-c6a6-2b6306b1ff76"
      },
      "execution_count": null,
      "outputs": [
        {
          "output_type": "stream",
          "name": "stdout",
          "text": [
            "['nani', 'pawan kalyan', 'ramcharan', 'ntr', 'prabhas']\n"
          ]
        }
      ]
    },
    {
      "cell_type": "markdown",
      "source": [
        "Allow duplicates"
      ],
      "metadata": {
        "id": "_LhXykjCMCTV"
      }
    },
    {
      "cell_type": "code",
      "source": [
        "colour=[\"yellow\",\"black\",\"yellow\",\"white\"]\n",
        "print(colour)"
      ],
      "metadata": {
        "colab": {
          "base_uri": "https://localhost:8080/"
        },
        "id": "u5OoN1dmVfdk",
        "outputId": "581fe57b-19bc-4c16-aa2a-bbc2d030f373"
      },
      "execution_count": null,
      "outputs": [
        {
          "output_type": "stream",
          "name": "stdout",
          "text": [
            "['yellow', 'black', 'yellow', 'white']\n"
          ]
        }
      ]
    },
    {
      "cell_type": "markdown",
      "source": [
        "List length"
      ],
      "metadata": {
        "id": "NGIIseveYPYI"
      }
    },
    {
      "cell_type": "code",
      "source": [
        "a=\"rrr has been released\"\n",
        "print(len(a))"
      ],
      "metadata": {
        "colab": {
          "base_uri": "https://localhost:8080/"
        },
        "id": "cA4OxBdKYVlj",
        "outputId": "48c21e9c-7ff9-4d51-f996-c86ebe0f0fc5"
      },
      "execution_count": null,
      "outputs": [
        {
          "output_type": "stream",
          "name": "stdout",
          "text": [
            "21\n"
          ]
        }
      ]
    },
    {
      "cell_type": "code",
      "source": [
        ""
      ],
      "metadata": {
        "id": "2KoWL8LwX9Ka"
      },
      "execution_count": null,
      "outputs": []
    }
  ]
}
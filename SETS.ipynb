{
  "nbformat": 4,
  "nbformat_minor": 0,
  "metadata": {
    "colab": {
      "name": "SETS",
      "provenance": [],
      "collapsed_sections": [],
      "authorship_tag": "ABX9TyMrq8NbVNf5NkQgHhQqr+E7",
      "include_colab_link": true
    },
    "kernelspec": {
      "name": "python3",
      "display_name": "Python 3"
    },
    "language_info": {
      "name": "python"
    }
  },
  "cells": [
    {
      "cell_type": "markdown",
      "metadata": {
        "id": "view-in-github",
        "colab_type": "text"
      },
      "source": [
        "<a href=\"https://colab.research.google.com/github/VU21CSEN0100410/python/blob/main/SETS.ipynb\" target=\"_parent\"><img src=\"https://colab.research.google.com/assets/colab-badge.svg\" alt=\"Open In Colab\"/></a>"
      ]
    },
    {
      "cell_type": "markdown",
      "source": [
        "Create a Set (duplicates are not allowed)"
      ],
      "metadata": {
        "id": "04UmtBcrNjSf"
      }
    },
    {
      "cell_type": "code",
      "execution_count": 5,
      "metadata": {
        "colab": {
          "base_uri": "https://localhost:8080/"
        },
        "id": "hLaxoY3sMFRv",
        "outputId": "e451a958-be0a-422b-e1b8-203937512ad4"
      },
      "outputs": [
        {
          "output_type": "stream",
          "name": "stdout",
          "text": [
            "{'cat', 'goat', 'dog', 'cow'}\n",
            "<class 'set'>\n"
          ]
        }
      ],
      "source": [
        "p={\"dog\",\"cat\",\"goat\",\"cow\"}\n",
        "print(p)\n",
        "print(type(p))"
      ]
    },
    {
      "cell_type": "markdown",
      "source": [
        "Length of a Set"
      ],
      "metadata": {
        "id": "Kdyu1vAoObsv"
      }
    },
    {
      "cell_type": "code",
      "source": [
        "p={\"dog\",\"cat\",\"goat\",\"cow\"}\n",
        "print(len(p))"
      ],
      "metadata": {
        "colab": {
          "base_uri": "https://localhost:8080/"
        },
        "id": "PEhpNXSPOPSQ",
        "outputId": "13dc8feb-9b57-40ae-be87-6017cc5a1919"
      },
      "execution_count": 8,
      "outputs": [
        {
          "output_type": "stream",
          "name": "stdout",
          "text": [
            "4\n"
          ]
        }
      ]
    },
    {
      "cell_type": "markdown",
      "source": [
        "Set Items - Data Types\n",
        "String, int and boolean data types"
      ],
      "metadata": {
        "id": "undFMaTyfUpN"
      }
    },
    {
      "cell_type": "code",
      "source": [
        "p={\"dog\",\"cat\",\"goat\",\"cow\"}\n",
        "q={\"1\",\"2\",\"3\",\"4\"}\n",
        "r={\"true\",\"false\",\"true\"}\n",
        "print(p)\n",
        "print(q)\n",
        "print(r)"
      ],
      "metadata": {
        "colab": {
          "base_uri": "https://localhost:8080/"
        },
        "id": "bmvmJViNfaU_",
        "outputId": "b8abd02c-636c-4886-fdc4-5a3765be88d4"
      },
      "execution_count": 58,
      "outputs": [
        {
          "output_type": "stream",
          "name": "stdout",
          "text": [
            "{'cat', 'goat', 'dog', 'cow'}\n",
            "{'2', '3', '4', '1'}\n",
            "{'true', 'false'}\n"
          ]
        }
      ]
    },
    {
      "cell_type": "markdown",
      "source": [
        "A set can contain different data type"
      ],
      "metadata": {
        "id": "bdw-X0QUg3vd"
      }
    },
    {
      "cell_type": "code",
      "source": [
        "d = {\"abc\", 34, True, 40, \"male\"}\n",
        "print(d)"
      ],
      "metadata": {
        "colab": {
          "base_uri": "https://localhost:8080/"
        },
        "id": "2L_95GFmg4oH",
        "outputId": "b2ed9f7f-b086-46e6-b31c-8b839bf34026"
      },
      "execution_count": 59,
      "outputs": [
        {
          "output_type": "stream",
          "name": "stdout",
          "text": [
            "{True, 34, 40, 'abc', 'male'}\n"
          ]
        }
      ]
    },
    {
      "cell_type": "markdown",
      "source": [
        "Loop through the set, and print the values"
      ],
      "metadata": {
        "id": "47_3QkReO5i3"
      }
    },
    {
      "cell_type": "code",
      "source": [
        "p = {\"dog\",\"cat\",\"goat\",\"cow\"}\n",
        "for x in p:\n",
        "  print(x)"
      ],
      "metadata": {
        "colab": {
          "base_uri": "https://localhost:8080/"
        },
        "id": "XPyLqXlNOok3",
        "outputId": "4e8abdf7-0df8-43d6-d18f-40ee2ad29b61"
      },
      "execution_count": 19,
      "outputs": [
        {
          "output_type": "stream",
          "name": "stdout",
          "text": [
            "cat\n",
            "goat\n",
            "dog\n",
            "cow\n"
          ]
        }
      ]
    },
    {
      "cell_type": "markdown",
      "source": [
        "Checking in the set:"
      ],
      "metadata": {
        "id": "72dvfNpCPr9H"
      }
    },
    {
      "cell_type": "code",
      "source": [
        "p={\"dog\",\"cat\",\"goat\",\"cow\"}\n",
        "print(\"dog\" in p)\n",
        "print(\"sheep\" in p)"
      ],
      "metadata": {
        "colab": {
          "base_uri": "https://localhost:8080/"
        },
        "id": "DZvCwbwIPviH",
        "outputId": "5b3f91e0-2917-442a-d4a5-8abc3b6e48d5"
      },
      "execution_count": 12,
      "outputs": [
        {
          "output_type": "stream",
          "name": "stdout",
          "text": [
            "True\n",
            "False\n"
          ]
        }
      ]
    },
    {
      "cell_type": "markdown",
      "source": [
        "Add Items"
      ],
      "metadata": {
        "id": "XOvIMpMEQObA"
      }
    },
    {
      "cell_type": "code",
      "source": [
        "p={\"dog\",\"cat\",\"goat\",\"cow\"}\n",
        "p.add(\"sheep\")\n",
        "print(p)"
      ],
      "metadata": {
        "colab": {
          "base_uri": "https://localhost:8080/"
        },
        "id": "nWu7p9r_QTzh",
        "outputId": "668a0636-5f76-4d2e-d672-95b948600e48"
      },
      "execution_count": 13,
      "outputs": [
        {
          "output_type": "stream",
          "name": "stdout",
          "text": [
            "{'sheep', 'cat', 'goat', 'cow', 'dog'}\n"
          ]
        }
      ]
    },
    {
      "cell_type": "markdown",
      "source": [
        "Add elements from one into another"
      ],
      "metadata": {
        "id": "DuCmbJD_Qiex"
      }
    },
    {
      "cell_type": "code",
      "source": [
        "d={\"dog\",\"cat\",\"goat\",\"cow\"}\n",
        "w={\"lion\",\"tiger\",\"hippo\",\"gorilla\"}\n",
        "d.update(w)\n",
        "print(d)\n",
        "w.update(d)\n",
        "print(w)"
      ],
      "metadata": {
        "colab": {
          "base_uri": "https://localhost:8080/"
        },
        "id": "AnvoO1jRRhTZ",
        "outputId": "265c517c-3aef-4bb2-a361-afda83090671"
      },
      "execution_count": 17,
      "outputs": [
        {
          "output_type": "stream",
          "name": "stdout",
          "text": [
            "{'tiger', 'cat', 'hippo', 'gorilla', 'goat', 'cow', 'lion', 'dog'}\n",
            "{'tiger', 'cat', 'hippo', 'gorilla', 'goat', 'lion', 'cow', 'dog'}\n"
          ]
        }
      ]
    },
    {
      "cell_type": "markdown",
      "source": [
        "Add elements of a list to at set"
      ],
      "metadata": {
        "id": "KuohoiGzSQax"
      }
    },
    {
      "cell_type": "code",
      "source": [
        "w={\"lion\",\"tiger\",\"hippo\",\"gorilla\"}\n",
        "d=[\"dog\",\"cat\",\"goat\",\"cow\"]\n",
        "w.update(d)\n",
        "print(w)"
      ],
      "metadata": {
        "colab": {
          "base_uri": "https://localhost:8080/"
        },
        "id": "4eIGaCXNSRRC",
        "outputId": "4a2c8d0e-8de4-4a36-c923-4ec344e29742"
      },
      "execution_count": 22,
      "outputs": [
        {
          "output_type": "stream",
          "name": "stdout",
          "text": [
            "{'tiger', 'cat', 'hippo', 'gorilla', 'goat', 'lion', 'cow', 'dog'}\n"
          ]
        }
      ]
    },
    {
      "cell_type": "markdown",
      "source": [
        "Remove Item"
      ],
      "metadata": {
        "id": "v5FlCQICTdqg"
      }
    },
    {
      "cell_type": "code",
      "source": [
        "w={\"lion\",\"tiger\",\"hippo\",\"gorilla\"}\n",
        "w.remove(\"hippo\")\n",
        "print(w)"
      ],
      "metadata": {
        "colab": {
          "base_uri": "https://localhost:8080/"
        },
        "id": "PmJaWDQ0TdBA",
        "outputId": "6ccb540e-95f9-4345-d70c-1fc283a1720d"
      },
      "execution_count": 23,
      "outputs": [
        {
          "output_type": "stream",
          "name": "stdout",
          "text": [
            "{'gorilla', 'tiger', 'lion'}\n"
          ]
        }
      ]
    },
    {
      "cell_type": "markdown",
      "source": [
        "remove by using the discard() method"
      ],
      "metadata": {
        "id": "N8lCUQoLTx5S"
      }
    },
    {
      "cell_type": "code",
      "source": [
        "w={\"lion\",\"tiger\",\"hippo\",\"gorilla\"}\n",
        "w.discard(\"gorilla\")\n",
        "print(w)"
      ],
      "metadata": {
        "colab": {
          "base_uri": "https://localhost:8080/"
        },
        "id": "6kVBxZF-T0cM",
        "outputId": "5dbd47ce-c3c5-47df-a678-b9f0d3b9b903"
      },
      "execution_count": 24,
      "outputs": [
        {
          "output_type": "stream",
          "name": "stdout",
          "text": [
            "{'hippo', 'tiger', 'lion'}\n"
          ]
        }
      ]
    },
    {
      "cell_type": "markdown",
      "source": [
        "Remove the last item by using the pop() method"
      ],
      "metadata": {
        "id": "m_5VBhH-UL2K"
      }
    },
    {
      "cell_type": "code",
      "source": [
        "d={\"dog\",\"cat\",\"goat\",\"cow\"}\n",
        "z=d.pop() \n",
        "print(z)#removed item\n",
        "print(d)#the set after removal"
      ],
      "metadata": {
        "colab": {
          "base_uri": "https://localhost:8080/"
        },
        "id": "qsKsfMDuUNaK",
        "outputId": "8a73375c-a5c7-4896-84df-406adaae4668"
      },
      "execution_count": 27,
      "outputs": [
        {
          "output_type": "stream",
          "name": "stdout",
          "text": [
            "cat\n",
            "{'goat', 'dog', 'cow'}\n"
          ]
        }
      ]
    },
    {
      "cell_type": "markdown",
      "source": [
        "The clear() method empties the set\n"
      ],
      "metadata": {
        "id": "lBzRUSABVCky"
      }
    },
    {
      "cell_type": "markdown",
      "source": [
        "The del keyword will delete the set completely"
      ],
      "metadata": {
        "id": "42woRNywW2oa"
      }
    },
    {
      "cell_type": "code",
      "source": [
        "d={\"dog\",\"cat\",\"goat\",\"cow\"}\n",
        "d.clear()\n",
        "print(d)"
      ],
      "metadata": {
        "colab": {
          "base_uri": "https://localhost:8080/"
        },
        "id": "UaRirMClVDZd",
        "outputId": "773ab4e4-200e-42c4-e4aa-809252febb48"
      },
      "execution_count": 28,
      "outputs": [
        {
          "output_type": "stream",
          "name": "stdout",
          "text": [
            "set()\n"
          ]
        }
      ]
    },
    {
      "cell_type": "markdown",
      "source": [
        "Join Two Sets"
      ],
      "metadata": {
        "id": "jdLKbMjvXlsz"
      }
    },
    {
      "cell_type": "code",
      "source": [
        "d={\"dog\",\"cat\",\"goat\",\"cow\"}\n",
        "w={\"lion\",\"tiger\",\"hippo\",\"gorilla\"}\n",
        "j=d.union(w)\n",
        "print(j)\n",
        "\n",
        "w={\"lion\",\"tiger\",\"hippo\",\"gorilla\"}\n",
        "d=[\"dog\",\"cat\",\"goat\",\"cow\"]\n",
        "w.update(d)\n",
        "print(w)"
      ],
      "metadata": {
        "colab": {
          "base_uri": "https://localhost:8080/"
        },
        "id": "FEyKkpW6WyT7",
        "outputId": "282789c1-d53c-49de-f1f3-4c3b29981e88"
      },
      "execution_count": 34,
      "outputs": [
        {
          "output_type": "stream",
          "name": "stdout",
          "text": [
            "{'tiger', 'cat', 'hippo', 'gorilla', 'goat', 'cow', 'lion', 'dog'}\n",
            "{'tiger', 'cat', 'hippo', 'gorilla', 'goat', 'lion', 'cow', 'dog'}\n"
          ]
        }
      ]
    },
    {
      "cell_type": "markdown",
      "source": [
        "Keep the items that exist in both set x, and set y"
      ],
      "metadata": {
        "id": "Oz4GgReqbT1d"
      }
    },
    {
      "cell_type": "code",
      "source": [
        "m={\"nani\",\"samantha\",\"arjun\",\"yash\"}\n",
        "n={\"yash\",\"nani\",\"akhil\",\"chaitanya\"}\n",
        "m.intersection_update(n)\n",
        "print(m)"
      ],
      "metadata": {
        "colab": {
          "base_uri": "https://localhost:8080/"
        },
        "id": "IVZ9PRO5bZXN",
        "outputId": "f44985f2-b285-4d33-8576-2688e2a082e3"
      },
      "execution_count": 47,
      "outputs": [
        {
          "output_type": "stream",
          "name": "stdout",
          "text": [
            "{'yash', 'nani'}\n"
          ]
        }
      ]
    },
    {
      "cell_type": "code",
      "source": [
        "m={\"nani\",\"samantha\",\"arjun\",\"yash\"}\n",
        "n={\"yash\",\"nani\",\"akhil\",\"chaitanya\"}\n",
        "o=m.intersection(n)\n",
        "print(o)"
      ],
      "metadata": {
        "colab": {
          "base_uri": "https://localhost:8080/"
        },
        "id": "Jms_uPzKdq4F",
        "outputId": "8489919b-4802-4b79-ba02-b7da68397143"
      },
      "execution_count": 52,
      "outputs": [
        {
          "output_type": "stream",
          "name": "stdout",
          "text": [
            "{'yash', 'nani'}\n"
          ]
        }
      ]
    },
    {
      "cell_type": "markdown",
      "source": [
        "Keep the items that are not present in both sets"
      ],
      "metadata": {
        "id": "Ar1FORmAee4k"
      }
    },
    {
      "cell_type": "code",
      "source": [
        "x={\"nani\",\"samantha\",\"arjun\",\"yash\"}\n",
        "y={\"yash\",\"nani\",\"akhil\",\"chaitanya\"}\n",
        "x.symmetric_difference_update(y)\n",
        "\n",
        "print(x)\n"
      ],
      "metadata": {
        "colab": {
          "base_uri": "https://localhost:8080/"
        },
        "id": "je_mY3GUeO-W",
        "outputId": "76acdd93-33da-43c4-92c2-9d5431ddc1ae"
      },
      "execution_count": 53,
      "outputs": [
        {
          "output_type": "stream",
          "name": "stdout",
          "text": [
            "{'arjun', 'akhil', 'chaitanya', 'samantha'}\n"
          ]
        }
      ]
    },
    {
      "cell_type": "code",
      "source": [
        "x={\"nani\",\"samantha\",\"arjun\",\"yash\"}\n",
        "y={\"yash\",\"nani\",\"akhil\",\"chaitanya\"}\n",
        "z=x.symmetric_difference(y)\n",
        "\n",
        "print(z)\n"
      ],
      "metadata": {
        "colab": {
          "base_uri": "https://localhost:8080/"
        },
        "id": "Ec8oTGBte7QG",
        "outputId": "045e4242-1174-4141-d65e-6a77c65e80b0"
      },
      "execution_count": 54,
      "outputs": [
        {
          "output_type": "stream",
          "name": "stdout",
          "text": [
            "{'arjun', 'akhil', 'chaitanya', 'samantha'}\n"
          ]
        }
      ]
    }
  ]
}
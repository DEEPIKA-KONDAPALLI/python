{
  "nbformat": 4,
  "nbformat_minor": 0,
  "metadata": {
    "colab": {
      "name": "TUPLE",
      "provenance": [],
      "collapsed_sections": [],
      "authorship_tag": "ABX9TyMbkM5z+LYE+HpHnKUkLqC5",
      "include_colab_link": true
    },
    "kernelspec": {
      "name": "python3",
      "display_name": "Python 3"
    },
    "language_info": {
      "name": "python"
    }
  },
  "cells": [
    {
      "cell_type": "markdown",
      "metadata": {
        "id": "view-in-github",
        "colab_type": "text"
      },
      "source": [
        "<a href=\"https://colab.research.google.com/github/VU21CSEN0100410/python/blob/main/TUPLE.ipynb\" target=\"_parent\"><img src=\"https://colab.research.google.com/assets/colab-badge.svg\" alt=\"Open In Colab\"/></a>"
      ]
    },
    {
      "cell_type": "markdown",
      "source": [
        "create a tuple\n"
      ],
      "metadata": {
        "id": "iDGUEUX9wmOo"
      }
    },
    {
      "cell_type": "code",
      "execution_count": null,
      "metadata": {
        "colab": {
          "base_uri": "https://localhost:8080/"
        },
        "id": "hINaVRvdvcsD",
        "outputId": "9f73bab3-213b-43eb-e7aa-b8426c71d583"
      },
      "outputs": [
        {
          "output_type": "stream",
          "name": "stdout",
          "text": [
            "('red', 'blue', 'yellow')\n"
          ]
        }
      ],
      "source": [
        "a=(\"red\",\"blue\",\"yellow\")\n",
        "print(a)"
      ]
    },
    {
      "cell_type": "markdown",
      "source": [
        "duplicate values\n"
      ],
      "metadata": {
        "id": "T-YP3O06w8_4"
      }
    },
    {
      "cell_type": "code",
      "source": [
        "a=(\"red\",\"blue\",\"yellow\",\"red\")\n",
        "print(a)"
      ],
      "metadata": {
        "colab": {
          "base_uri": "https://localhost:8080/"
        },
        "id": "-t7pbDLGwlnx",
        "outputId": "03889a7f-1095-4139-f52b-00e6f7c25ce4"
      },
      "execution_count": null,
      "outputs": [
        {
          "output_type": "stream",
          "name": "stdout",
          "text": [
            "('red', 'blue', 'yellow', 'red')\n"
          ]
        }
      ]
    },
    {
      "cell_type": "markdown",
      "source": [
        "tuple length"
      ],
      "metadata": {
        "id": "-0Bv7NVDxFXH"
      }
    },
    {
      "cell_type": "code",
      "source": [
        "d=(\"python\",\"tuples\")\n",
        "print(len(d))"
      ],
      "metadata": {
        "colab": {
          "base_uri": "https://localhost:8080/"
        },
        "id": "iTwvJsNk3W8E",
        "outputId": "adcbe1fc-a7b0-4041-c414-d20eff4f9612"
      },
      "execution_count": null,
      "outputs": [
        {
          "output_type": "stream",
          "name": "stdout",
          "text": [
            "2\n"
          ]
        }
      ]
    },
    {
      "cell_type": "code",
      "source": [
        "d=(\"python tuples\")\n",
        "print(len(d))"
      ],
      "metadata": {
        "colab": {
          "base_uri": "https://localhost:8080/"
        },
        "id": "QwdB_0sJw_sB",
        "outputId": "52b49f41-05f4-4149-8302-c81cdaad49c2"
      },
      "execution_count": null,
      "outputs": [
        {
          "output_type": "stream",
          "name": "stdout",
          "text": [
            "13\n"
          ]
        }
      ]
    },
    {
      "cell_type": "markdown",
      "source": [
        "tuple with one item"
      ],
      "metadata": {
        "id": "SApRVJpHxh53"
      }
    },
    {
      "cell_type": "code",
      "source": [
        "k=(\"myself\",)\n",
        "print(type(k))"
      ],
      "metadata": {
        "colab": {
          "base_uri": "https://localhost:8080/"
        },
        "id": "sHVY10qoxW9h",
        "outputId": "2786b1bf-4222-4f70-8b93-5d3985d67f5f"
      },
      "execution_count": null,
      "outputs": [
        {
          "output_type": "stream",
          "name": "stdout",
          "text": [
            "<class 'tuple'>\n"
          ]
        }
      ]
    },
    {
      "cell_type": "markdown",
      "source": [
        "TUPLE ITEMS-DATA TYPES\n",
        "\n",
        "strings,int and boolean"
      ],
      "metadata": {
        "id": "T0x2-GTPyk_m"
      }
    },
    {
      "cell_type": "code",
      "source": [
        "a=(\"white\",\"black\",\"blue\")\n",
        "b=(\"1\",\"2\",\"3\")\n",
        "c=(\"true\",\"false\")\n",
        "print(a)\n",
        "print(b)\n",
        "print(c)"
      ],
      "metadata": {
        "colab": {
          "base_uri": "https://localhost:8080/"
        },
        "id": "vp1pCLVKyW0a",
        "outputId": "726fda77-e8b0-48f6-944f-8abaecf67014"
      },
      "execution_count": null,
      "outputs": [
        {
          "output_type": "stream",
          "name": "stdout",
          "text": [
            "('white', 'black', 'blue')\n",
            "('1', '2', '3')\n",
            "('true', 'false')\n"
          ]
        }
      ]
    },
    {
      "cell_type": "markdown",
      "source": [
        "allows different data types"
      ],
      "metadata": {
        "id": "L1rYkCF1z31_"
      }
    },
    {
      "cell_type": "code",
      "source": [
        "a=(\"white\",\"4\",\"true\")\n",
        "print(type(a))\n",
        "print(a)"
      ],
      "metadata": {
        "colab": {
          "base_uri": "https://localhost:8080/"
        },
        "id": "GS6vIbD0zN0w",
        "outputId": "fb14da76-41e6-41a8-8079-d1225078f80a"
      },
      "execution_count": null,
      "outputs": [
        {
          "output_type": "stream",
          "name": "stdout",
          "text": [
            "<class 'tuple'>\n",
            "('white', '4', 'true')\n"
          ]
        }
      ]
    },
    {
      "cell_type": "markdown",
      "source": [
        "type()"
      ],
      "metadata": {
        "id": "VOP2_TrH0G0d"
      }
    },
    {
      "cell_type": "code",
      "source": [
        "e = (\"apple\", \"banana\", \"cherry\")\n",
        "print(type(e))"
      ],
      "metadata": {
        "colab": {
          "base_uri": "https://localhost:8080/"
        },
        "id": "pr0MdPoWz6y_",
        "outputId": "1b13d389-e8bd-4316-beeb-ffb6ec4332d1"
      },
      "execution_count": null,
      "outputs": [
        {
          "output_type": "stream",
          "name": "stdout",
          "text": [
            "<class 'tuple'>\n"
          ]
        }
      ]
    },
    {
      "cell_type": "markdown",
      "source": [
        "constructor"
      ],
      "metadata": {
        "id": "9q8dsllB3IDe"
      }
    },
    {
      "cell_type": "code",
      "source": [
        "a=tuple((\"nani\",\"samantha\"))\n",
        "print(a)"
      ],
      "metadata": {
        "colab": {
          "base_uri": "https://localhost:8080/"
        },
        "id": "jf0OG-pl3qv9",
        "outputId": "dba71e9c-d527-422b-f3c8-616c977a9f17"
      },
      "execution_count": null,
      "outputs": [
        {
          "output_type": "stream",
          "name": "stdout",
          "text": [
            "('nani', 'samantha')\n"
          ]
        }
      ]
    },
    {
      "cell_type": "code",
      "source": [
        "a=(\"nani\",\"samantha\")\n",
        "d=tuple((\"nani\"))\n",
        "b=tuple((\"samantha\"))\n",
        "print(d)\n",
        "print(b)"
      ],
      "metadata": {
        "colab": {
          "base_uri": "https://localhost:8080/"
        },
        "id": "UGQlc2p70bIH",
        "outputId": "95fea2d7-4633-41bc-d157-9a0b2d43a631"
      },
      "execution_count": null,
      "outputs": [
        {
          "output_type": "stream",
          "name": "stdout",
          "text": [
            "('n', 'a', 'n', 'i')\n",
            "('s', 'a', 'm', 'a', 'n', 't', 'h', 'a')\n"
          ]
        }
      ]
    },
    {
      "cell_type": "markdown",
      "source": [
        "Access Tuple Items"
      ],
      "metadata": {
        "id": "VM7Yf0Fc5DjL"
      }
    },
    {
      "cell_type": "code",
      "source": [
        "a=(\"insta\",\"whatsapp\",\"snapchat\")\n",
        "print(a[2])\n",
        "print(a[0])"
      ],
      "metadata": {
        "colab": {
          "base_uri": "https://localhost:8080/"
        },
        "id": "eAgaSDxF4nZX",
        "outputId": "a7c7a3ee-7821-45cb-c023-905d318e682d"
      },
      "execution_count": null,
      "outputs": [
        {
          "output_type": "stream",
          "name": "stdout",
          "text": [
            "snapchat\n",
            "insta\n"
          ]
        }
      ]
    },
    {
      "cell_type": "markdown",
      "source": [
        "negative indexing"
      ],
      "metadata": {
        "id": "Aq7FzVTA5WLV"
      }
    },
    {
      "cell_type": "code",
      "source": [
        "app=(\"insta\",\"whatsapp\",\"snapchat\")\n",
        "print(app[-1])\n",
        "print(app[-2])"
      ],
      "metadata": {
        "colab": {
          "base_uri": "https://localhost:8080/"
        },
        "id": "k9qHb8zz5GlU",
        "outputId": "9f62e7c6-303f-438f-8a06-bf51fca4ebc0"
      },
      "execution_count": null,
      "outputs": [
        {
          "output_type": "stream",
          "name": "stdout",
          "text": [
            "snapchat\n",
            "whatsapp\n"
          ]
        }
      ]
    },
    {
      "cell_type": "markdown",
      "source": [
        "Range of Indexes"
      ],
      "metadata": {
        "id": "abh_R3D1634S"
      }
    },
    {
      "cell_type": "code",
      "source": [
        "b=(\"jasmine\",\"rose\",\"hibiscus\",\"sunflower\",\"marigold\")\n",
        "print(b[1:5])\n",
        "print(b[0:2])\n",
        "print(b[:5])\n",
        "print(b[1:])\n",
        "print(b[-4:-1])"
      ],
      "metadata": {
        "colab": {
          "base_uri": "https://localhost:8080/"
        },
        "id": "zcMAub6N5krl",
        "outputId": "af4dd6da-776f-4e28-d3a9-6d60a1c82c69"
      },
      "execution_count": null,
      "outputs": [
        {
          "output_type": "stream",
          "name": "stdout",
          "text": [
            "('rose', 'hibiscus', 'sunflower', 'marigold')\n",
            "('jasmine', 'rose')\n",
            "('jasmine', 'rose', 'hibiscus', 'sunflower', 'marigold')\n",
            "('rose', 'hibiscus', 'sunflower', 'marigold')\n",
            "('rose', 'hibiscus', 'sunflower')\n"
          ]
        }
      ]
    },
    {
      "cell_type": "markdown",
      "source": [
        "if item"
      ],
      "metadata": {
        "id": "UwUPxpUQ8uu5"
      }
    },
    {
      "cell_type": "code",
      "source": [
        "fruits= (\"apple\", \"banana\", \"cherry\")\n",
        "if \"apple\" in fruits:\n",
        "  print(\"Yes\")"
      ],
      "metadata": {
        "colab": {
          "base_uri": "https://localhost:8080/"
        },
        "id": "JgzRSDdt_IBa",
        "outputId": "ac573b64-9399-4a28-c75f-31a773a52091"
      },
      "execution_count": null,
      "outputs": [
        {
          "output_type": "stream",
          "name": "stdout",
          "text": [
            "Yes\n"
          ]
        }
      ]
    }
  ]
}
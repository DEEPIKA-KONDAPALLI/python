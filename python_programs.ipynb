{
  "nbformat": 4,
  "nbformat_minor": 0,
  "metadata": {
    "colab": {
      "name": "python programs",
      "provenance": [],
      "authorship_tag": "ABX9TyOkWNS3IpuFg2MZw74g9ekg",
      "include_colab_link": true
    },
    "kernelspec": {
      "name": "python3",
      "display_name": "Python 3"
    },
    "language_info": {
      "name": "python"
    }
  },
  "cells": [
    {
      "cell_type": "markdown",
      "metadata": {
        "id": "view-in-github",
        "colab_type": "text"
      },
      "source": [
        "<a href=\"https://colab.research.google.com/github/VU21CSEN0100410/python/blob/main/python_programs.ipynb\" target=\"_parent\"><img src=\"https://colab.research.google.com/assets/colab-badge.svg\" alt=\"Open In Colab\"/></a>"
      ]
    },
    {
      "cell_type": "markdown",
      "source": [
        "22)write a python program to print even length words in a string"
      ],
      "metadata": {
        "id": "UeK_ZmxYkzLG"
      }
    },
    {
      "cell_type": "code",
      "execution_count": null,
      "metadata": {
        "colab": {
          "base_uri": "https://localhost:8080/"
        },
        "id": "m5aDij72hhSw",
        "outputId": "a105d76f-a1f9-40fa-dece-840e4eadab36"
      },
      "outputs": [
        {
          "output_type": "stream",
          "name": "stdout",
          "text": [
            "enter a string:\"this is a python class\"\n",
            "is\n",
            "python\n",
            "class\"\n"
          ]
        }
      ],
      "source": [
        "a=input(\"enter a string:\")\n",
        "b=a.split()\n",
        "for i in b:\n",
        "  if len(i)%2==0:\n",
        "    print(i)"
      ]
    },
    {
      "cell_type": "markdown",
      "source": [
        "21)write program to read any month in integer and display days for that month"
      ],
      "metadata": {
        "id": "zdhgCLJ4l752"
      }
    },
    {
      "cell_type": "code",
      "source": [
        "a=int(input(\"enter a number:\"))\n",
        "b=[1,3,5,7,8,10,12]\n",
        "if a==2:\n",
        "  print (28/29)\n",
        "elif a in b:\n",
        "  print(\"31\")\n",
        "elif a>13 or a<1:\n",
        "  print(\"enter correct number\")\n",
        "else:\n",
        "  print(\"30\")"
      ],
      "metadata": {
        "colab": {
          "base_uri": "https://localhost:8080/"
        },
        "id": "_KMtgWGwmK33",
        "outputId": "1e3975fa-20d2-42a3-f92d-51e167b25da6"
      },
      "execution_count": null,
      "outputs": [
        {
          "output_type": "stream",
          "name": "stdout",
          "text": [
            "enter a number:7\n",
            "31\n"
          ]
        }
      ]
    },
    {
      "cell_type": "markdown",
      "source": [
        "20)write a progam to print prime numbers in given range by using functions(25,50)"
      ],
      "metadata": {
        "id": "DAkz9kH2mV6v"
      }
    },
    {
      "cell_type": "code",
      "source": [
        "a=25\n",
        "b=50\n",
        "def prime(a,b):\n",
        " for i in range(a,b+1):\n",
        "  k=0\n",
        "  for j in range(2,i):\n",
        "    if i%j==0:\n",
        "     k+=1\n",
        "  if k==0:\n",
        "     print(i)\n",
        "prime(a,b)\n",
        "    "
      ],
      "metadata": {
        "id": "hsN8vqVeoFYP",
        "colab": {
          "base_uri": "https://localhost:8080/"
        },
        "outputId": "74cd7fdd-bf75-448b-afd4-2d45a747aff0"
      },
      "execution_count": null,
      "outputs": [
        {
          "output_type": "stream",
          "name": "stdout",
          "text": [
            "29\n",
            "31\n",
            "37\n",
            "41\n",
            "43\n",
            "47\n"
          ]
        }
      ]
    },
    {
      "cell_type": "markdown",
      "source": [
        "1)write a python program to find power of number with recursion and without recursion(input n=2 , p=3)"
      ],
      "metadata": {
        "id": "k6BJjf1qm2Df"
      }
    },
    {
      "cell_type": "code",
      "source": [
        "#with recursion\n",
        "def pow(n,p):\n",
        "  if p==1:\n",
        "    return n\n",
        "  elif p==0:\n",
        "    return 1\n",
        "  else: \n",
        "    return n*pow(n,p-1)\n",
        "n=int(input(\"base is:\"))\n",
        "p=int(input(\"exponent is:\"))\n",
        "print(pow(n,p))\n",
        "\n",
        "#without recursion\n",
        "a,b=map(int,input().split())\n",
        "print(a**b)"
      ],
      "metadata": {
        "colab": {
          "base_uri": "https://localhost:8080/"
        },
        "id": "3uUuKiyDsM4_",
        "outputId": "3f8c8904-4b8c-42ef-9ce5-796066086fd4"
      },
      "execution_count": null,
      "outputs": [
        {
          "output_type": "stream",
          "name": "stdout",
          "text": [
            "base is:2\n",
            "exponent is:3\n",
            "8\n",
            "2 2\n",
            "4\n"
          ]
        }
      ]
    },
    {
      "cell_type": "markdown",
      "source": [
        "2)write a program to sort tuple by total digits (input: list=[(3,4,6,723),(1,2),(134,234,34)])"
      ],
      "metadata": {
        "id": "4mgybnOvpfyx"
      }
    },
    {
      "cell_type": "code",
      "source": [
        "a=[(3,4,6,723),(1,2),(134,234,34)]\n",
        "for i in range(0,len(a)):\n",
        " a[i]=sorted(a[i])\n",
        "print(sorted(a))\n"
      ],
      "metadata": {
        "colab": {
          "base_uri": "https://localhost:8080/"
        },
        "id": "dbyCk4McpjFI",
        "outputId": "431d871b-356b-4337-811b-be881f213920"
      },
      "execution_count": null,
      "outputs": [
        {
          "output_type": "stream",
          "name": "stdout",
          "text": [
            "[[1, 2], [3, 4, 6, 723], [34, 134, 234]]\n"
          ]
        }
      ]
    },
    {
      "cell_type": "markdown",
      "source": [
        "3)take five subjects from the user and display the grade of the student,if average is 90-100(o),80-89(a+),70-79(a)..."
      ],
      "metadata": {
        "id": "-_10lPX7uo9u"
      }
    },
    {
      "cell_type": "code",
      "source": [
        "a=int(input(\"enter 1st subject marks\"))\n",
        "b=int(input(\"enter 2nd subject marks\"))\n",
        "c=int(input(\"enter 3rd subject marks\"))\n",
        "d=int(input(\"enter 4th subject marks\"))\n",
        "e=int(input(\"enter 5th subject marks\"))\n",
        "f=(a+b+c+d+e)/5\n",
        "if f>90:\n",
        " print(\"grade o\")\n",
        "elif f>80 and f<90:\n",
        "  print(\"grade a+\")\n",
        "elif f>70 and f<80:\n",
        "  print(\"grade a\")\n",
        "elif f<70 and f>60:\n",
        "  print(\"grade b\")\n",
        "elif f>50 and f<60:\n",
        "  print(\"grade c\")\n",
        "elif f>30 and f<50:\n",
        "  print(\"grade d\")\n",
        "else:\n",
        "   print(\"grade e\")     \n"
      ],
      "metadata": {
        "id": "7CfVRFy3upud",
        "colab": {
          "base_uri": "https://localhost:8080/"
        },
        "outputId": "79905ecb-314c-4b3b-a369-71264da9d1aa"
      },
      "execution_count": 48,
      "outputs": [
        {
          "output_type": "stream",
          "name": "stdout",
          "text": [
            "enter 1st subject marks98\n",
            "enter 2nd subject marks90\n",
            "enter 3rd subject marks100\n",
            "enter 4th subject marks95\n",
            "enter 5th subject marks92\n",
            "grade o\n"
          ]
        }
      ]
    },
    {
      "cell_type": "code",
      "source": [
        "a,b,c,d,e=map(float,input().split())\n",
        "f=(a+b+c+d+e)/5\n",
        "if f>90:\n",
        " print(\"grade o\")\n",
        "elif f>80 and f<90:\n",
        "  print(\"grade a+\")\n",
        "elif f>70 and f<80:\n",
        "  print(\"grade a\")\n",
        "elif f<70 and f>60:\n",
        "  print(\"grade b\")\n",
        "elif f>50 and f<60:\n",
        "  print(\"grade c\")\n",
        "elif f>30 and f<50:\n",
        "  print(\"grade d\")\n",
        "else:\n",
        "   print(\"grade e\")     \n"
      ],
      "metadata": {
        "colab": {
          "base_uri": "https://localhost:8080/"
        },
        "id": "Lvx3TtTw0e2J",
        "outputId": "ae909c14-4323-4542-d0fb-0600521604c7"
      },
      "execution_count": 51,
      "outputs": [
        {
          "output_type": "stream",
          "name": "stdout",
          "text": [
            "89 89 89 90 90\n",
            "grade a+\n"
          ]
        }
      ]
    },
    {
      "cell_type": "markdown",
      "source": [
        "4)write a python program that prints 1 if all three given numbers are ascending order."
      ],
      "metadata": {
        "id": "x8Cp6z6y0dCL"
      }
    },
    {
      "cell_type": "code",
      "source": [
        "a,b,c=map(int,input().split())\n",
        "if b!=a+1 or c!=b+1:\n",
        "  print(0)\n",
        "elif b==a+1 and c==b+1:\n",
        "  print(1)"
      ],
      "metadata": {
        "colab": {
          "base_uri": "https://localhost:8080/"
        },
        "id": "Ne9tuz4W1nDC",
        "outputId": "018f7afe-7018-42ed-ca36-98eed9524d48"
      },
      "execution_count": 52,
      "outputs": [
        {
          "output_type": "stream",
          "name": "stdout",
          "text": [
            "7 8 9\n",
            "1\n"
          ]
        }
      ]
    },
    {
      "cell_type": "markdown",
      "source": [
        "5)check a given number is perfect number are not"
      ],
      "metadata": {
        "id": "sKhCsSIV2VNC"
      }
    },
    {
      "cell_type": "code",
      "source": [
        "n=int(input(\"enter a number\"))\n",
        "s=0\n",
        "for i in range(1,n):\n",
        "  if n%i==0:\n",
        "    s=s+i\n",
        "if s==n:\n",
        "  print(\"perfect number\")\n",
        "else:\n",
        "  print(\"not  perfect\")      "
      ],
      "metadata": {
        "colab": {
          "base_uri": "https://localhost:8080/"
        },
        "id": "ihRQJvAy2YJK",
        "outputId": "10e663a9-202a-443d-e49f-e6a64be5d63e"
      },
      "execution_count": 54,
      "outputs": [
        {
          "output_type": "stream",
          "name": "stdout",
          "text": [
            "enter a number9\n",
            "not  perfect\n"
          ]
        }
      ]
    },
    {
      "cell_type": "markdown",
      "source": [
        "25)write a python program to convert a list of multiple integers into a single line"
      ],
      "metadata": {
        "id": "1eS9XhA128VI"
      }
    },
    {
      "cell_type": "code",
      "source": [
        "a=eval(input(\"enter list of integers\"))\n",
        "b=\"\"\n",
        "for i in a:\n",
        "  b+=str(i)\n",
        "print(b)  "
      ],
      "metadata": {
        "colab": {
          "base_uri": "https://localhost:8080/"
        },
        "id": "X1LftGzW3hp7",
        "outputId": "89dcd860-d639-43ce-e9b7-2cfb0262b9b4"
      },
      "execution_count": 56,
      "outputs": [
        {
          "output_type": "stream",
          "name": "stdout",
          "text": [
            "enter list of integers((1,2),(1,2,3))\n",
            "(1, 2)(1, 2, 3)\n"
          ]
        }
      ]
    },
    {
      "cell_type": "markdown",
      "source": [
        "24)write a python program to captalise the first and last of each word"
      ],
      "metadata": {
        "id": "nBPEEXv14R1j"
      }
    },
    {
      "cell_type": "code",
      "source": [
        "a=input(\"enter string\")\n",
        "a=a.title()\n",
        "print(a)"
      ],
      "metadata": {
        "colab": {
          "base_uri": "https://localhost:8080/"
        },
        "id": "f4mx_S1Q4SoD",
        "outputId": "99a0027e-315f-411e-ff96-3009a6105ed2"
      },
      "execution_count": 59,
      "outputs": [
        {
          "output_type": "stream",
          "name": "stdout",
          "text": [
            "enter stringfgffhg hhtht\n",
            "Fgffhg Hhtht\n"
          ]
        }
      ]
    }
  ]
}